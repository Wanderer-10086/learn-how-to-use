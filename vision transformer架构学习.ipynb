{
 "cells": [
  {
   "cell_type": "code",
   "execution_count": 1,
   "id": "dbc7ff12",
   "metadata": {},
   "outputs": [],
   "source": [
    "import torch"
   ]
  },
  {
   "cell_type": "markdown",
   "id": "23d9f1fe",
   "metadata": {},
   "source": [
    "# patch embedding层，切分＋映射"
   ]
  },
  {
   "cell_type": "code",
   "execution_count": 3,
   "id": "4a2a59e5",
   "metadata": {},
   "outputs": [
    {
     "ename": "SyntaxError",
     "evalue": "invalid syntax (4240103035.py, line 22)",
     "output_type": "error",
     "traceback": [
      "\u001b[1;36m  Cell \u001b[1;32mIn[3], line 22\u001b[1;36m\u001b[0m\n\u001b[1;33m    assert H == self.img_size[0] and W == self.img_size[1],\u001b[0m\n\u001b[1;37m                                                            ^\u001b[0m\n\u001b[1;31mSyntaxError\u001b[0m\u001b[1;31m:\u001b[0m invalid syntax\n"
     ]
    }
   ],
   "source": [
    "class PatchEmbed(torch.nn.Module):\n",
    "    def __init__(self,img_size=224,patch_size=16,in_c=3,embed_dim=768):\n",
    "        super().__init__()\n",
    "        patch_size = (patch_size,patch_size) #(16*16)\n",
    "        self.img_size = (img_size,img_size) #(224*224)\n",
    "        self.patch_size = patch_size\n",
    "        self.grid_size = (img_size[0]/patch_size,img_size[1]/patch_size)\n",
    "        self.num_patches = self.grid_size[0]*self.grid_size[1] #patch的个数\n",
    "        \n",
    "        #定义卷积层\n",
    "        self.proj = torch.nn.Conv2d(in_channels=in_c,out_channels=embed_dim,\n",
    "                                    kernel_size=patch_size,stride=patch_size)\n",
    "        \n",
    "        #定义归一化方式\n",
    "        self.norm = torch.nn.LayerNorm(embed_dim)\n",
    "        \n",
    "    def forward(self,image):\n",
    "        \n",
    "        B,C,H,W = image.shape\n",
    "        \n",
    "        #检查图像高宽和预先设定是否一致，不一致则报错\n",
    "        assert H == self.img_size[0] and W == self.img_size[1], \n",
    "        f\"Input image size ({H}*{W}) does not match model({self.img_size[0]}*{self.img_size[1]}).\"\n",
    "        \n",
    "        #对图像依次卷积、展平、调换\n",
    "        x = self.proj(image).flatten(2).transpose(1,2)\n",
    "        \n",
    "        #归一化处理\n",
    "        x = self.norm(x)\n",
    "        \n",
    "        return x"
   ]
  }
 ],
 "metadata": {
  "kernelspec": {
   "display_name": "pytorch",
   "language": "python",
   "name": "pytorch"
  },
  "language_info": {
   "codemirror_mode": {
    "name": "ipython",
    "version": 3
   },
   "file_extension": ".py",
   "mimetype": "text/x-python",
   "name": "python",
   "nbconvert_exporter": "python",
   "pygments_lexer": "ipython3",
   "version": "3.10.14"
  }
 },
 "nbformat": 4,
 "nbformat_minor": 5
}
